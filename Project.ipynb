{
 "cells": [
  {
   "cell_type": "code",
   "execution_count": 51,
   "metadata": {},
   "outputs": [],
   "source": [
    "import numpy as np\n",
    "import pandas as pd\n",
    "from matplotlib import pyplot as plt\n",
    "import seaborn as sns"
   ]
  },
  {
   "cell_type": "code",
   "execution_count": 41,
   "metadata": {},
   "outputs": [
    {
     "name": "stderr",
     "output_type": "stream",
     "text": [
      "c:\\Users\\leera\\anaconda3\\lib\\site-packages\\openpyxl\\worksheet\\_read_only.py:79: UserWarning: Unknown extension is not supported and will be removed\n",
      "  for idx, row in parser.parse():\n",
      "c:\\Users\\leera\\anaconda3\\lib\\site-packages\\pandas\\core\\arraylike.py:402: RuntimeWarning: divide by zero encountered in log\n",
      "  result = getattr(ufunc, method)(*inputs, **kwargs)\n"
     ]
    }
   ],
   "source": [
    "data = pd.read_excel('Data/Olson_Wu_Sun_2014_Epistasis_Dataset.xlsx', usecols='B:K', header=0, skiprows=2)\n",
    "data.insert(10,  'Double Fitness',\n",
    "            np.log((data['Selection Count']/data['Input Count'])/(3041819/1759616)))\n",
    "data.insert(11,  'Epistasis',\n",
    "            data['Double Fitness']-data['Mut1 Fitness']-data['Mut2 Fitness'])\n",
    "df = data.drop(['Input Count', 'Selection Count', 'Mut1 WT amino acid', 'Mut2 WT amino acid'], axis=1)\n",
    "data = df\n",
    "data['Mut1 Fitness'] = np.log(data['Mut1 Fitness'])\n",
    "data['Mut2 Fitness'] = np.log(data['Mut2 Fitness'])\n",
    "\n",
    "AA = ['A', 'C', 'D', 'E', 'F', 'G', 'H', 'I', 'K', 'L',\n",
    "       'M', 'N', 'P', 'Q', 'R', 'S', 'T', 'V', 'W', 'Y']\n",
    "AA_dict = dict((k,v) for v,k in enumerate(AA))\n",
    "\n",
    "for col in ['Mut1 Mutation', 'Mut2 Mutation']:\n",
    "    data[col] = list(map(AA_dict.get, data[col]))"
   ]
  },
  {
   "cell_type": "code",
   "execution_count": 43,
   "metadata": {},
   "outputs": [
    {
     "data": {
      "text/html": [
       "<div>\n",
       "<style scoped>\n",
       "    .dataframe tbody tr th:only-of-type {\n",
       "        vertical-align: middle;\n",
       "    }\n",
       "\n",
       "    .dataframe tbody tr th {\n",
       "        vertical-align: top;\n",
       "    }\n",
       "\n",
       "    .dataframe thead th {\n",
       "        text-align: right;\n",
       "    }\n",
       "</style>\n",
       "<table border=\"1\" class=\"dataframe\">\n",
       "  <thead>\n",
       "    <tr style=\"text-align: right;\">\n",
       "      <th></th>\n",
       "      <th>Mut1 Position</th>\n",
       "      <th>Mut1 Mutation</th>\n",
       "      <th>Mut2 Position</th>\n",
       "      <th>Mut2 Mutation</th>\n",
       "      <th>Mut1 Fitness</th>\n",
       "      <th>Mut2 Fitness</th>\n",
       "      <th>Double Fitness</th>\n",
       "      <th>Epistasis</th>\n",
       "    </tr>\n",
       "  </thead>\n",
       "  <tbody>\n",
       "    <tr>\n",
       "      <th>0</th>\n",
       "      <td>2</td>\n",
       "      <td>0</td>\n",
       "      <td>3</td>\n",
       "      <td>0</td>\n",
       "      <td>0.417394</td>\n",
       "      <td>-0.546453</td>\n",
       "      <td>-2.204144</td>\n",
       "      <td>-2.075085</td>\n",
       "    </tr>\n",
       "    <tr>\n",
       "      <th>1</th>\n",
       "      <td>2</td>\n",
       "      <td>0</td>\n",
       "      <td>3</td>\n",
       "      <td>1</td>\n",
       "      <td>0.417394</td>\n",
       "      <td>-0.484508</td>\n",
       "      <td>-1.358290</td>\n",
       "      <td>-1.291176</td>\n",
       "    </tr>\n",
       "    <tr>\n",
       "      <th>2</th>\n",
       "      <td>2</td>\n",
       "      <td>0</td>\n",
       "      <td>3</td>\n",
       "      <td>2</td>\n",
       "      <td>0.417394</td>\n",
       "      <td>-4.605170</td>\n",
       "      <td>-4.043868</td>\n",
       "      <td>0.143909</td>\n",
       "    </tr>\n",
       "    <tr>\n",
       "      <th>3</th>\n",
       "      <td>2</td>\n",
       "      <td>0</td>\n",
       "      <td>3</td>\n",
       "      <td>3</td>\n",
       "      <td>0.417394</td>\n",
       "      <td>-4.710531</td>\n",
       "      <td>-4.824026</td>\n",
       "      <td>-0.530889</td>\n",
       "    </tr>\n",
       "    <tr>\n",
       "      <th>4</th>\n",
       "      <td>2</td>\n",
       "      <td>0</td>\n",
       "      <td>3</td>\n",
       "      <td>4</td>\n",
       "      <td>0.417394</td>\n",
       "      <td>0.052592</td>\n",
       "      <td>0.342497</td>\n",
       "      <td>-0.127489</td>\n",
       "    </tr>\n",
       "  </tbody>\n",
       "</table>\n",
       "</div>"
      ],
      "text/plain": [
       "   Mut1 Position  Mut1 Mutation  Mut2 Position  Mut2 Mutation  Mut1 Fitness  \\\n",
       "0              2              0              3              0      0.417394   \n",
       "1              2              0              3              1      0.417394   \n",
       "2              2              0              3              2      0.417394   \n",
       "3              2              0              3              3      0.417394   \n",
       "4              2              0              3              4      0.417394   \n",
       "\n",
       "   Mut2 Fitness  Double Fitness  Epistasis  \n",
       "0     -0.546453       -2.204144  -2.075085  \n",
       "1     -0.484508       -1.358290  -1.291176  \n",
       "2     -4.605170       -4.043868   0.143909  \n",
       "3     -4.710531       -4.824026  -0.530889  \n",
       "4      0.052592        0.342497  -0.127489  "
      ]
     },
     "execution_count": 43,
     "metadata": {},
     "output_type": "execute_result"
    }
   ],
   "source": [
    "with open('Data/GB1.txt', 'r', encoding='utf-8') as f:\n",
    "    seq = f.readlines()[1].strip()\n",
    "print(f'seq sequence: {seq}')\n",
    "print(f'seq length: {len(seq)}')\n",
    "print(f'Number of total double mutants: {data.shape[0]}')\n",
    "print(f'Theoretical number of double mutants: 55*54/2*(19*19)={int(55*54/2*(19*19))}')\n",
    "print(f'Number of mutants with zero expression: {int(55*54/2*(19*19))-data.shape[0]}')\n",
    "data.head()"
   ]
  },
  {
   "cell_type": "code",
   "execution_count": 52,
   "metadata": {},
   "outputs": [
    {
     "data": {
      "text/plain": [
       "<Axes: xlabel='Epistasis', ylabel='Count'>"
      ]
     },
     "execution_count": 52,
     "metadata": {},
     "output_type": "execute_result"
    },
    {
     "data": {
      "image/png": "[encoded data removed]",
      "text/plain": [
       "<Figure size 640x480 with 1 Axes>"
      ]
     },
     "metadata": {},
     "output_type": "display_data"
    }
   ],
   "source": [
    "fig, ax = plt.subplots()\n",
    "sns.histplot(data=data['Epistasis'], ax=ax)"
   ]
  },
  {
   "cell_type": "code",
   "execution_count": 67,
   "metadata": {},
   "outputs": [],
   "source": [
    "single_df = data[['Mut1 Position', 'Mut1 Mutation', 'Mut1 Fitness']].drop_duplicates()\n",
    "single_df = single_df.sort_values(by=['Mut1 Position', 'Mut1 Mutation'])"
   ]
  },
  {
   "cell_type": "code",
   "execution_count": 44,
   "metadata": {},
   "outputs": [],
   "source": [
    "\n",
    "embedding_single_mutations = pd.read_csv('Data/mutation_input/single_mutations.csv', \n",
    "                                         usecols=[0,1], dtype='int', names=['Mut1 Position', 'Mut1 Mutation', 'Mut1 Fitness'])\n",
    "embedding_single_data = pd.read_csv('Data/embedding_output/final_cell_single_mutations.csv')\n",
    "embedding_concat = pd.concat([embedding_single_mutations, embedding_single_data], axis=1)\n",
    "embedding_concat = embedding_concat.sort_values(by=['Mut1 Position', 'Mut1 Mutation'])\n",
    "X = embedding_concat.iloc[:,2:].to_numpy()\n",
    "y = single_df['Mut1 Fitness'].to_numpy().reshape(-1,1)"
   ]
  },
  {
   "cell_type": "code",
   "execution_count": null,
   "metadata": {},
   "outputs": [],
   "source": []
  },
  {
   "cell_type": "code",
   "execution_count": 70,
   "metadata": {},
   "outputs": [
    {
     "name": "stdout",
     "output_type": "stream",
     "text": [
      "Collecting package metadata (current_repodata.json): ...working... done\n",
      "Solving environment: ...working... done\n",
      "\n",
      "## Package Plan ##\n",
      "\n",
      "  environment location: c:\\Users\\leera\\anaconda3\n",
      "\n",
      "  added / updated specs:\n",
      "    - scikit-learn\n",
      "\n",
      "\n",
      "The following packages will be downloaded:\n",
      "\n",
      "    package                    |            build\n",
      "    ---------------------------|-----------------\n",
      "    scikit-learn-1.2.2         |   py39hd77b12b_0         6.5 MB\n",
      "    ------------------------------------------------------------\n",
      "                                           Total:         6.5 MB\n",
      "\n",
      "The following packages will be UPDATED:\n",
      "\n",
      "  scikit-learn                         1.2.1-py39hd77b12b_0 --> 1.2.2-py39hd77b12b_0 None\n",
      "\n",
      "\n",
      "\n",
      "Downloading and Extracting Packages\n",
      "\n",
      "scikit-learn-1.2.2   | 6.5 MB    |            |   0% \n",
      "scikit-learn-1.2.2   | 6.5 MB    | 6          |   7% \n",
      "scikit-learn-1.2.2   | 6.5 MB    | ###3       |  33% \n",
      "scikit-learn-1.2.2   | 6.5 MB    | ######2    |  62% \n",
      "scikit-learn-1.2.2   | 6.5 MB    | #########1 |  91% \n",
      "scikit-learn-1.2.2   | 6.5 MB    | ########## | 100% \n",
      "Preparing transaction: ...working... done\n",
      "Verifying transaction: ...working... done\n",
      "Executing transaction: ...working... \n",
      "\n",
      "    Windows 64-bit packages of scikit-learn can be accelerated using scikit-learn-intelex.\n",
      "    More details are available here: https://intel.github.io/scikit-learn-intelex\n",
      "\n",
      "    For example:\n",
      "\n",
      "        $ conda install scikit-learn-intelex\n",
      "        $ python -m sklearnex my_application.py\n",
      "\n",
      "\n",
      "done\n",
      "Retrieving notices: ...working... done\n",
      "\n",
      "Note: you may need to restart the kernel to use updated packages.\n"
     ]
    },
    {
     "name": "stderr",
     "output_type": "stream",
     "text": [
      "\n",
      "\n",
      "==> WARNING: A newer version of conda exists. <==\n",
      "  current version: 22.9.0\n",
      "  latest version: 23.3.1\n",
      "\n",
      "Please update conda by running\n",
      "\n",
      "    $ conda update -n base -c defaults conda\n",
      "\n",
      "\n"
     ]
    }
   ],
   "source": [
    "conda install scikit-learn"
   ]
  },
  {
   "cell_type": "code",
   "execution_count": null,
   "metadata": {},
   "outputs": [],
   "source": []
  }
 ],
 "metadata": {
  "kernelspec": {
   "display_name": "base",
   "language": "python",
   "name": "python3"
  },
  "language_info": {
   "codemirror_mode": {
    "name": "ipython",
    "version": 3
   },
   "file_extension": ".py",
   "mimetype": "text/x-python",
   "name": "python",
   "nbconvert_exporter": "python",
   "pygments_lexer": "ipython3",
   "version": "3.9.7"
  },
  "orig_nbformat": 4
 },
 "nbformat": 4,
 "nbformat_minor": 2
}
